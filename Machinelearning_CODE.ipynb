{
  "nbformat": 4,
  "nbformat_minor": 0,
  "metadata": {
    "colab": {
      "provenance": []
    },
    "kernelspec": {
      "name": "python3",
      "display_name": "Python 3"
    },
    "language_info": {
      "name": "python"
    }
  },
  "cells": [
    {
      "cell_type": "code",
      "execution_count": null,
      "metadata": {
        "id": "EPedPl-zKWWw"
      },
      "outputs": [],
      "source": [
        "import pandas as pd"
      ]
    },
    {
      "cell_type": "code",
      "source": [
        "mydata = pd.read_csv(' ')  #the csv file path is written in between apostrophe''\n",
        "mydata.head()"
      ],
      "metadata": {
        "id": "Al3SQ06EbLIV"
      },
      "execution_count": null,
      "outputs": []
    },
    {
      "cell_type": "code",
      "source": [
        "#removing unwanted data from data set\n",
        "mydata = mydata.drop(['id','Is_discontinued','manufacturer_name','type','pack_size_label','price(₹)'], axis=1)"
      ],
      "metadata": {
        "id": "B3h95ZleKbi0"
      },
      "execution_count": null,
      "outputs": []
    },
    {
      "cell_type": "code",
      "source": [
        "#filling space in place od NaN values\n",
        "columns = ['short_composition1','short_composition2']\n",
        "for col in columns:\n",
        "    mydata[col] = mydata[col].fillna(' ')"
      ],
      "metadata": {
        "id": "n3EoidXGKbse"
      },
      "execution_count": null,
      "outputs": []
    },
    {
      "cell_type": "code",
      "source": [
        "#merging both the short compositions\n",
        "mydata['composition'] = mydata['short_composition1'] + ' ' + mydata['short_composition2']\n",
        "mydata = mydata.drop(['short_composition1','short_composition2'], axis=1)"
      ],
      "metadata": {
        "id": "dnW2MPaYKbyY"
      },
      "execution_count": null,
      "outputs": []
    },
    {
      "cell_type": "code",
      "source": [
        "# Convert the 'composition' column to lowercase\n",
        "mydata['composition'] = mydata['composition'].str.lower()"
      ],
      "metadata": {
        "id": "Bgk2kHJVK0mp"
      },
      "execution_count": null,
      "outputs": []
    },
    {
      "cell_type": "code",
      "source": [
        "mydata"
      ],
      "metadata": {
        "id": "d90P901rbtiL"
      },
      "execution_count": null,
      "outputs": []
    },
    {
      "cell_type": "code",
      "source": [
        "from sklearn.metrics.pairwise import euclidean_distances\n",
        "from sklearn.feature_extraction.text import CountVectorizer\n",
        "def recommendations(medicine_name, k=2):\n",
        "    mydata['composition'] = mydata['composition'].str.lower()\n",
        "    idx = mydata.index[mydata['name'] == medicine_name][0]\n",
        "    count_vectorizer = CountVectorizer()\n",
        "    composition_count = count_vectorizer.fit_transform(mydata['composition'])\n",
        "    distances = euclidean_distances(composition_count[idx], composition_count)\n",
        "    similar_indices = distances.argsort()[0][1:k+1]\n",
        "    similar_medicines = mydata.iloc[similar_indices]['name'].values.tolist()\n",
        "    return similar_medicines"
      ],
      "metadata": {
        "id": "jH0MREG0K0Yo"
      },
      "execution_count": null,
      "outputs": []
    },
    {
      "cell_type": "code",
      "source": [
        "medicine_name = \"Avil 25 Tablet\"  #any medicine we want to get alternative medicines\n",
        "similar_medicines = recommendations(medicine_name, k=2)\n",
        "print(\"Top 2 similar medicines for\", medicine_name, \":\")\n",
        "print(similar_medicines)"
      ],
      "metadata": {
        "id": "lJYsd6QUbrsE"
      },
      "execution_count": null,
      "outputs": []
    }
  ]
}
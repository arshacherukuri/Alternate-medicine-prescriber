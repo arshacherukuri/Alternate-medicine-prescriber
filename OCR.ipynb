{
  "nbformat": 4,
  "nbformat_minor": 0,
  "metadata": {
    "colab": {
      "provenance": []
    },
    "kernelspec": {
      "name": "python3",
      "display_name": "Python 3"
    },
    "language_info": {
      "name": "python"
    }
  },
  "cells": [
    {
      "cell_type": "code",
      "execution_count": null,
      "metadata": {
        "colab": {
          "base_uri": "https://localhost:8080/"
        },
        "id": "3Yzyy4vG6WaN",
        "outputId": "77d086ae-4ea2-4992-f41f-e461ee0cc507"
      },
      "outputs": [
        {
          "output_type": "stream",
          "name": "stdout",
          "text": [
            "Collecting pytesseract\n",
            "  Downloading pytesseract-0.3.10-py3-none-any.whl (14 kB)\n",
            "Requirement already satisfied: packaging>=21.3 in /usr/local/lib/python3.10/dist-packages (from pytesseract) (24.0)\n",
            "Requirement already satisfied: Pillow>=8.0.0 in /usr/local/lib/python3.10/dist-packages (from pytesseract) (9.4.0)\n",
            "Installing collected packages: pytesseract\n",
            "Successfully installed pytesseract-0.3.10\n",
            "Reading package lists... Done\n",
            "Building dependency tree... Done\n",
            "Reading state information... Done\n",
            "The following additional packages will be installed:\n",
            "  tesseract-ocr-eng tesseract-ocr-osd\n",
            "The following NEW packages will be installed:\n",
            "  tesseract-ocr tesseract-ocr-eng tesseract-ocr-osd\n",
            "0 upgraded, 3 newly installed, 0 to remove and 45 not upgraded.\n",
            "Need to get 4,816 kB of archives.\n",
            "After this operation, 15.6 MB of additional disk space will be used.\n",
            "Get:1 http://archive.ubuntu.com/ubuntu jammy/universe amd64 tesseract-ocr-eng all 1:4.00~git30-7274cfa-1.1 [1,591 kB]\n",
            "Get:2 http://archive.ubuntu.com/ubuntu jammy/universe amd64 tesseract-ocr-osd all 1:4.00~git30-7274cfa-1.1 [2,990 kB]\n",
            "Get:3 http://archive.ubuntu.com/ubuntu jammy/universe amd64 tesseract-ocr amd64 4.1.1-2.1build1 [236 kB]\n",
            "Fetched 4,816 kB in 1s (7,989 kB/s)\n",
            "debconf: unable to initialize frontend: Dialog\n",
            "debconf: (No usable dialog-like program is installed, so the dialog based frontend cannot be used. at /usr/share/perl5/Debconf/FrontEnd/Dialog.pm line 78, <> line 3.)\n",
            "debconf: falling back to frontend: Readline\n",
            "debconf: unable to initialize frontend: Readline\n",
            "debconf: (This frontend requires a controlling tty.)\n",
            "debconf: falling back to frontend: Teletype\n",
            "dpkg-preconfigure: unable to re-open stdin: \n",
            "Selecting previously unselected package tesseract-ocr-eng.\n",
            "(Reading database ... 121918 files and directories currently installed.)\n",
            "Preparing to unpack .../tesseract-ocr-eng_1%3a4.00~git30-7274cfa-1.1_all.deb ...\n",
            "Unpacking tesseract-ocr-eng (1:4.00~git30-7274cfa-1.1) ...\n",
            "Selecting previously unselected package tesseract-ocr-osd.\n",
            "Preparing to unpack .../tesseract-ocr-osd_1%3a4.00~git30-7274cfa-1.1_all.deb ...\n",
            "Unpacking tesseract-ocr-osd (1:4.00~git30-7274cfa-1.1) ...\n",
            "Selecting previously unselected package tesseract-ocr.\n",
            "Preparing to unpack .../tesseract-ocr_4.1.1-2.1build1_amd64.deb ...\n",
            "Unpacking tesseract-ocr (4.1.1-2.1build1) ...\n",
            "Setting up tesseract-ocr-eng (1:4.00~git30-7274cfa-1.1) ...\n",
            "Setting up tesseract-ocr-osd (1:4.00~git30-7274cfa-1.1) ...\n",
            "Setting up tesseract-ocr (4.1.1-2.1build1) ...\n",
            "Processing triggers for man-db (2.10.2-1) ...\n"
          ]
        }
      ],
      "source": [
        "!pip install pytesseract\n",
        "!sudo apt install tesseract-ocr\n"
      ]
    },
    {
      "cell_type": "code",
      "source": [
        "from google.colab import drive\n",
        "drive.mount('/content/drive')\n"
      ],
      "metadata": {
        "colab": {
          "base_uri": "https://localhost:8080/"
        },
        "id": "6MrNEgzE6eKo",
        "outputId": "01484113-208f-4f51-f443-f3477d109e7c"
      },
      "execution_count": null,
      "outputs": [
        {
          "output_type": "stream",
          "name": "stdout",
          "text": [
            "Mounted at /content/drive\n"
          ]
        }
      ]
    },
    {
      "cell_type": "code",
      "source": [
        "import cv2\n",
        "\n",
        "# Load image from local file\n",
        "image = cv2.imread('path_to_image.jpg')\n",
        "\n",
        "# If using images from Google Drive\n",
        "image = cv2.imread('/content/drive/MyDrive/medicine.jpg')"
      ],
      "metadata": {
        "id": "KDH_dWMU6eNs"
      },
      "execution_count": null,
      "outputs": []
    },
    {
      "cell_type": "code",
      "source": [
        "# Convert image to grayscale\n",
        "gray = cv2.cvtColor(image, cv2.COLOR_BGR2GRAY)\n",
        "\n",
        "# Apply thresholding or other image enhancement techniques\n",
        "# Example: thresholding\n",
        "_, threshold = cv2.threshold(gray, 0, 255, cv2.THRESH_BINARY | cv2.THRESH_OTSU)"
      ],
      "metadata": {
        "id": "RRffA0JG6eQV"
      },
      "execution_count": null,
      "outputs": []
    },
    {
      "cell_type": "code",
      "source": [
        "import pytesseract\n",
        "\n",
        "# Set tesseract path (necessary in Colab)\n",
        "pytesseract.pytesseract.tesseract_cmd = r'/usr/bin/tesseract'\n",
        "\n",
        "# Perform OCR\n",
        "text = pytesseract.image_to_string(threshold, config='--psm 6')\n",
        "print(text)"
      ],
      "metadata": {
        "colab": {
          "base_uri": "https://localhost:8080/"
        },
        "id": "XilZGBOW6zBU",
        "outputId": "6044ef08-fa50-48a0-cc7e-301e0ab960db"
      },
      "execution_count": null,
      "outputs": [
        {
          "output_type": "stream",
          "name": "stdout",
          "text": [
            "DEA# GB 05455616. LIC # 976269\n",
            "MEDICAL CENTRE\n",
            "824 14\" Street\n",
            "New York, NY 91743, USA\n",
            "name Joba Smith ace__ 24\n",
            "Appress_/6Z Example St Mf DATE O9-H-1Z\n",
            "Betaloc 100mg - 1 tab BID\n",
            "Dorzclamidun 10 “3 7 ! tabs BD\n",
            "Cimetidine 50 mg - Z tabs TID\n",
            "Oxprelel 50mg = 1 tab OD\n",
            "8 Dr. Steve Jobason\n",
            "3 signature\n",
            "%  OLABEL\n",
            "% REFILL 071,23 4 5 PRN /\n",
            "2 wa atoaa700\n",
            "a\n",
            "3\n",
            "<<\n",
            "\f\n"
          ]
        }
      ]
    },
    {
      "cell_type": "code",
      "source": [
        "import re\n",
        "\n",
        "# Sample text\n",
        "text = \"\"\"\n",
        "DEA# GB 05455616. LIC # 976269\n",
        "MEDICAL CENTRE\n",
        "824 14\" Street\n",
        "New York, NY 91743, USA\n",
        "name Joba Smith ace__ 24\n",
        "Appress_/6Z Example St Mf DATE O9-H-1Z\n",
        "Betaloc 100mg - 1 tab BID\n",
        "Dorzclamidun 10 “3 7 ! tabs BD\n",
        "Cimetidine 50 mg - Z tabs TID\n",
        "Oxprelel 50mg = 1 tab OD\n",
        "8 Dr. Steve Jobason\n",
        "3 signature\n",
        "%  OLABEL\n",
        "% REFILL 071,23 4 5 PRN /\n",
        "2 wa atoaa700\n",
        "\"\"\"\n",
        "\n",
        "# Regular expression for medicine names\n",
        "medicine_regex = r\"\\b([A-Z][a-z]+\\s?[0-9]+(?:mg|ml)?)?\\b\"\n",
        "\n",
        "# Find all matches\n",
        "matches = re.findall(medicine_regex, text)\n",
        "\n",
        "# Print the matches\n",
        "print(\"Potential medicine names:\")\n",
        "for match in matches:\n",
        "  print(match)"
      ],
      "metadata": {
        "colab": {
          "base_uri": "https://localhost:8080/"
        },
        "id": "VWiKJYZV6zE3",
        "outputId": "e5ff5b64-f77d-436c-f849-5862075d0ab6"
      },
      "execution_count": null,
      "outputs": [
        {
          "output_type": "stream",
          "name": "stdout",
          "text": [
            "Potential medicine names:\n",
            "\n",
            "\n",
            "\n",
            "\n",
            "\n",
            "\n",
            "\n",
            "\n",
            "\n",
            "\n",
            "\n",
            "\n",
            "\n",
            "\n",
            "\n",
            "\n",
            "\n",
            "\n",
            "\n",
            "\n",
            "\n",
            "\n",
            "\n",
            "\n",
            "\n",
            "\n",
            "\n",
            "\n",
            "\n",
            "\n",
            "\n",
            "\n",
            "\n",
            "\n",
            "\n",
            "\n",
            "\n",
            "\n",
            "\n",
            "\n",
            "\n",
            "\n",
            "\n",
            "\n",
            "\n",
            "\n",
            "\n",
            "\n",
            "\n",
            "\n",
            "\n",
            "\n",
            "\n",
            "\n",
            "\n",
            "\n",
            "\n",
            "\n",
            "Betaloc 100mg\n",
            "\n",
            "\n",
            "\n",
            "\n",
            "\n",
            "\n",
            "\n",
            "Dorzclamidun 10\n",
            "\n",
            "\n",
            "\n",
            "\n",
            "\n",
            "\n",
            "\n",
            "\n",
            "\n",
            "Cimetidine 50\n",
            "\n",
            "\n",
            "\n",
            "\n",
            "\n",
            "\n",
            "\n",
            "\n",
            "\n",
            "Oxprelel 50mg\n",
            "\n",
            "\n",
            "\n",
            "\n",
            "\n",
            "\n",
            "\n",
            "\n",
            "\n",
            "\n",
            "\n",
            "\n",
            "\n",
            "Jobason\n",
            "3\n",
            "\n",
            "\n",
            "\n",
            "\n",
            "\n",
            "\n",
            "\n",
            "\n",
            "\n",
            "\n",
            "\n",
            "\n",
            "\n",
            "\n",
            "\n",
            "\n",
            "\n",
            "\n",
            "\n",
            "\n",
            "\n",
            "\n",
            "\n"
          ]
        }
      ]
    },
    {
      "cell_type": "code",
      "source": [
        "import re\n",
        "def extract_meds(text):\n",
        "    pattern = r'\\b([A-Za-z]+)\\s+\\d*mg?\\s*-\\s*\\d+\\s+tab\\s+[A-Z]+'\n",
        "    matches = re.findall(pattern, text)\n",
        "    meds = sorted(set(matches))\n",
        "    return meds\n",
        "text = \"\"\"\n",
        "DEA# GB 05455616. LIC # 976269\n",
        "MEDICAL CENTRE\n",
        "824 14\" Street\n",
        "New York, NY 91743, USA\n",
        "name Joba Smith ace__ 24\n",
        "Appress_/6Z Example St Mf DATE O9-H-1Z\n",
        "Betaloc 100mg - 1 tab BID\n",
        "Dorzclamidun 10 \"3 7 ! tabs BD\n",
        "Cimetidine 50 mg - 2 tabs TID\n",
        "Oxprelel 50mg - 1 tab OD\n",
        "Dr. Steve Jobason\n",
        "signature\n",
        "OLABEL\n",
        "REFILL 071,23 4 5 PRN /\n",
        "wa atoaa700\n",
        "\"\"\"\n",
        "\n",
        "meds = extract_meds(text)\n",
        "for med in meds:\n",
        "    print(med)"
      ],
      "metadata": {
        "colab": {
          "base_uri": "https://localhost:8080/"
        },
        "id": "unQvNQQG6eTz",
        "outputId": "66e96b17-ffa1-4157-e58f-4aa664956aad"
      },
      "execution_count": null,
      "outputs": [
        {
          "output_type": "stream",
          "name": "stdout",
          "text": [
            "Betaloc\n",
            "Oxprelel\n"
          ]
        }
      ]
    }
  ]
}